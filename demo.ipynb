{
 "cells": [
  {
   "cell_type": "markdown",
   "id": "6ce64532-12bf-4e8f-bac4-de5fa1c30926",
   "metadata": {},
   "source": [
    "# MarkingPal idea"
   ]
  },
  {
   "cell_type": "markdown",
   "id": "aac6ce04-76b8-4eb8-b6c1-7b1649452c46",
   "metadata": {},
   "source": [
    "## `json` file\n",
    "\n",
    "Marker writes a `json` file for each assessment they are marking. MarkingPal interprets it and creates a GUI with different widgets. Theoretically, `json` file provides a GUI specification, i.e. the combination of checkboxes, dropdown menus, radio buttons, etc. Let's create a sample `json` file with only checkboxes from a dictionary in this notebook for self-consistency."
   ]
  },
  {
   "cell_type": "code",
   "execution_count": null,
   "id": "4097c4f0-3f4f-4618-9649-b50f4ca7cb3e",
   "metadata": {},
   "outputs": [],
   "source": [
    "import json\n",
    "\n",
    "assessment_dict = {\n",
    "    'task1': [  # This is Task 1 students were working on.\n",
    "        {'checkbox': 'Your implementation of the Zeeman energy passes all tests.'},\n",
    "        {'checkbox': 'You implemented it using for loops. Have you considered relying more on the operations in NumPy?'},\n",
    "        {'checkbox': 'The code is not well-structured and the readability could be improved.'},\n",
    "        {'checkbox': 'There are PEP8 formatting violations in your code.'},\n",
    "    ],\n",
    "}\n",
    "\n",
    "# Specify the filename to which you want to write the JSON data.\n",
    "filename = 'assessment.json'\n",
    "\n",
    "# Write the dictionary to a file as JSON\n",
    "with open(filename, 'w') as file:\n",
    "    json.dump(assessment_dict, file, indent=4)"
   ]
  },
  {
   "cell_type": "markdown",
   "id": "af7bcf34-4c84-4388-a51a-bcaaead2e362",
   "metadata": {},
   "source": [
    "## GUI generation\n",
    "\n",
    "Based on the `json` file, which uniquely defines the GUI, we generate GUI and add a button:"
   ]
  },
  {
   "cell_type": "code",
   "execution_count": null,
   "id": "a7fa9d23-1983-4bcc-a3d5-0ddb2a99c9de",
   "metadata": {},
   "outputs": [],
   "source": [
    "import json\n",
    "import ipywidgets as widgets\n",
    "from IPython.display import display, clear_output\n",
    "\n",
    "# Dictionary where we collect bullet points for each task. Eventually, we give this dictionary to ChatGPT.\n",
    "bullet_points = {}\n",
    "\n",
    "# Load JSON data.\n",
    "with open('assessment.json', 'r') as f:\n",
    "    assessment_dict = json.load(f)\n",
    "\n",
    "layout = widgets.Layout(width='auto', height='auto')  # Prevent cutting off the for checkboxes.\n",
    "\n",
    "for task in assessment_dict:\n",
    "    task_widgets = assessment_dict[task]\n",
    "\n",
    "    # Create checkboxes dynamically based on the JSON data.\n",
    "    checkboxes = [widgets.Checkbox(description=desc['checkbox'], layout=layout) for desc in task_widgets]\n",
    "    \n",
    "    # Create a button\n",
    "    button = widgets.Button(description=f'{task}')\n",
    "    \n",
    "    # Output widget to display results\n",
    "    output = widgets.Output()\n",
    "    \n",
    "    # Function to handle the button click\n",
    "    def on_button_clicked(b):\n",
    "        selected_checkboxes = [cb.description for cb in checkboxes if cb.value]\n",
    "        message = \"\".join(f'- {desc}\\n' for desc in selected_checkboxes)\n",
    "        \n",
    "        with output:\n",
    "            clear_output()\n",
    "            print(message)\n",
    "\n",
    "        bullet_points[b.description] = message\n",
    "\n",
    "        return message\n",
    "    \n",
    "    # Button click event.\n",
    "    button.on_click(on_button_clicked)\n",
    "    \n",
    "    # Display the widgets.\n",
    "    for cb in checkboxes:\n",
    "        display(cb)\n",
    "    display(button, output)"
   ]
  },
  {
   "cell_type": "markdown",
   "id": "eda0bfec-9208-4ac7-81d6-e3b58eca10ea",
   "metadata": {},
   "source": [
    "## Bullet points\n",
    "\n",
    "For each task the students were working on, we created an item in `bullet_points` dictionary with the bullet points we selected."
   ]
  },
  {
   "cell_type": "code",
   "execution_count": null,
   "id": "e3f8ea33-5a4c-49fd-a289-e585c2912d46",
   "metadata": {},
   "outputs": [],
   "source": [
    "for task, points in bullet_points.items():\n",
    "    print(task, points, sep='\\n')"
   ]
  },
  {
   "cell_type": "markdown",
   "id": "9174c326-0a4b-458a-b733-50ed4fb2a02b",
   "metadata": {},
   "source": [
    "## ChatGPT magic\n",
    "\n",
    "We give `bullet_points` dictionary (or any other API-friendly format) to ChatGPT to expand the feedback that we will give to the students."
   ]
  },
  {
   "cell_type": "code",
   "execution_count": null,
   "id": "83e23c67-2655-485c-8435-9e909a71789a",
   "metadata": {},
   "outputs": [],
   "source": [
    "def chatgpt(bullet_points):\n",
    "    # ChatGPT doing its magic....\n",
    "    return feedback_we_send_to_the_student"
   ]
  }
 ],
 "metadata": {
  "kernelspec": {
   "display_name": "Python 3 (ipykernel)",
   "language": "python",
   "name": "python3"
  },
  "language_info": {
   "codemirror_mode": {
    "name": "ipython",
    "version": 3
   },
   "file_extension": ".py",
   "mimetype": "text/x-python",
   "name": "python",
   "nbconvert_exporter": "python",
   "pygments_lexer": "ipython3",
   "version": "3.12.0"
  }
 },
 "nbformat": 4,
 "nbformat_minor": 5
}
